{
  "nbformat": 4,
  "nbformat_minor": 0,
  "metadata": {
    "colab": {
      "provenance": []
    },
    "kernelspec": {
      "name": "python3",
      "display_name": "Python 3"
    },
    "language_info": {
      "name": "python"
    }
  },
  "cells": [
    {
      "cell_type": "markdown",
      "source": [
        "#1.What is Python, and why is it popular?\n",
        "\n",
        "  > Python is a high-level, interpreted programming language known for its simplicity and readability. It's popular because of its ease of learning, versatility, extensive libraries and frameworks, and strong community support.\n",
        "\n",
        "2. **What is an interpreter in Python?**\n",
        "   >An interpreter in Python is a program that executes Python code line-by-line, converting it into machine code that the computer can understand and run.\n",
        "\n",
        "3. **What are pre-defined keywords in Python?**\n",
        "  > Pre-defined keywords in Python are reserved words that have a specific meaning and purpose in the language, such as `if`, `else`, `while`, `for`, `def`, etc.\n",
        "\n",
        "4. **Can keywords be used as variable names?**\n",
        "   >No, keywords cannot be used as variable names because they are reserved for specific syntax and functionality in the language.\n",
        "\n",
        "5. **What is mutability in Python?**\n",
        "  > Mutability refers to whether an object can be changed after it is created. Mutable objects can be altered, while immutable objects cannot be changed once created.\n",
        "\n",
        "6. **Why are lists mutable, but tuples are immutable?**\n",
        "   >Lists in Python are mutable, meaning their elements can be changed, added, or removed. Tuples are immutable, meaning their elements cannot be modified once the tuple is created. This design allows tuples to be hashable and used as keys in dictionaries.\n",
        "\n",
        "7. **What is the difference between `==` and `is` operators in Python?**\n",
        "   >The `==` operator checks for value equality, meaning it checks whether the values of two objects are equal. The `is` operator checks for identity equality, meaning it checks whether two objects refer to the same memory location.\n",
        "\n",
        "8. **What are logical operators in Python?**\n",
        "   >Logical operators in Python are used to combine conditional statements. The three main logical operators are `and`, `or`, and `not`.\n",
        "\n",
        "9. **What is type casting in Python?**\n",
        "   >Type casting in Python is the process of converting one data type to another, such as converting an integer to a string or vice versa.\n",
        "\n",
        "10. **What is the difference between implicit and explicit type casting?**\n",
        "    >- Implicit type casting (coercion) is done automatically by the interpreter, often without the programmer's intention.\n",
        "    - Explicit type casting (casting) is done manually by the programmer using functions like `int()`, `str()`, `float()`, etc.\n",
        "\n",
        "11. **What is the purpose of conditional statements in Python?**\n",
        "    >Conditional statements are used to execute different blocks of code based on certain conditions, allowing for decision-making in the program.\n",
        "\n",
        "12. **How does the `elif` statement work?**\n",
        "    >The `elif` statement is short for \"else if.\" It allows you to check multiple conditions after an initial `if` statement, executing the corresponding block of code for the first true condition.\n",
        "\n",
        "13. **What is the difference between `for` and `while` loops?**\n",
        "    >- `for` loops are used to iterate over a sequence (such as a list, tuple, or string) for a specific number of times.\n",
        "    - `while` loops are used to repeat a block of code as long as a certain condition is true.\n",
        "\n",
        "14. **Describe a scenario where a `while` loop is more suitable than a `for` loop.**\n",
        "    \n",
        "    >A `while` loop is more suitable when the number of iterations is not known beforehand and depends on a condition that might change during the execution of the loop. For example, reading user input until they enter a specific value."
      ],
      "metadata": {
        "id": "k2NGK5sZLzb6"
      }
    },
    {
      "cell_type": "markdown",
      "source": [
        "#Practical Questions"
      ],
      "metadata": {
        "id": "gCvJpkIGSSut"
      }
    },
    {
      "cell_type": "code",
      "source": [
        "#1.Write a Python program to print \"Hello, World!\"\n",
        "\n",
        "print(\"Hello, World!\")\n"
      ],
      "metadata": {
        "id": "zfw4Vw3uSaWr"
      },
      "execution_count": null,
      "outputs": []
    },
    {
      "cell_type": "code",
      "source": [
        "#2. Write a Python program that displays your name and age\n",
        "name = \"nikhl\"\n",
        "age = 25  # Replace with your age\n",
        "print(f\"My name is {name} and I am {age} years old.\")\n"
      ],
      "metadata": {
        "id": "LTfBurYiSu-E"
      },
      "execution_count": null,
      "outputs": []
    },
    {
      "cell_type": "code",
      "source": [
        "#3.Write code to print all the pre-defined keywords in Python using the keyword library\n",
        "import keyword\n",
        "\n",
        "print(keyword.kwlist)\n"
      ],
      "metadata": {
        "id": "j0rPTgvhTC-4"
      },
      "execution_count": null,
      "outputs": []
    },
    {
      "cell_type": "code",
      "source": [
        "#4.Write a program that checks if a given word is a Python keyword.\n",
        "import keyword\n",
        "\n",
        "word = input(\"Enter a word: \")\n",
        "if word in keyword.kwlist:\n",
        "    print(f\"'{word}' is a Python keyword.\")\n",
        "else:\n",
        "    print(f\"'{word}' is not a Python keyword.\")\n"
      ],
      "metadata": {
        "colab": {
          "base_uri": "https://localhost:8080/"
        },
        "id": "FKIYwdNbTWHB",
        "outputId": "514b1207-e4c0-40e2-857f-1e0cb89a2659"
      },
      "execution_count": 9,
      "outputs": [
        {
          "output_type": "stream",
          "name": "stdout",
          "text": [
            "Enter a word: def\n",
            "'def' is a Python keyword.\n"
          ]
        }
      ]
    },
    {
      "cell_type": "code",
      "source": [
        "#5.Create a list and tuple in Python, and demonstrate how attempting to change an element works differently for each\n",
        "# Creating a list\n",
        "my_list = [1, 2, 3]\n",
        "\n",
        "# Creating a tuple\n",
        "my_tuple = (1, 2, 3)\n",
        "\n",
        "# Changing an element in the list\n",
        "my_list[1] = 20\n",
        "print(\"List after modification:\", my_list)\n",
        "\n",
        "# Attempting to change an element in the tuple\n",
        "try:\n",
        "    my_tuple[1] = 20\n",
        "except TypeError as e:\n",
        "    print(\"Tuple after attempted modification:\", e)\n"
      ],
      "metadata": {
        "id": "KA0DGpV2Ub2X"
      },
      "execution_count": null,
      "outputs": []
    },
    {
      "cell_type": "code",
      "source": [
        "#6. Write a function to demonstrate the behavior of mutable and immutable arguments.\n",
        "\n",
        "def mutable_example(my_list):\n",
        "    my_list.append(4)\n",
        "    print(\"Inside function:\", my_list)\n",
        "\n",
        "def immutable_example(my_int):\n",
        "    my_int += 1\n",
        "    print(\"Inside function:\", my_int)\n",
        "\n",
        "lst = [1, 2, 3]\n",
        "num = 10\n",
        "\n",
        "mutable_example(lst)\n",
        "print(\"Outside function:\", lst)\n",
        "\n",
        "immutable_example(num)\n",
        "print(\"Outside function:\", num)\n"
      ],
      "metadata": {
        "id": "6TO_wsQVU8Y9"
      },
      "execution_count": null,
      "outputs": []
    },
    {
      "cell_type": "code",
      "source": [
        "#7.Write a program that performs basic arithmetic operations on two user-input numbers.\n",
        "num1 = float(input(\"Enter first number: \"))\n",
        "num2 = float(input(\"Enter second number: \"))\n",
        "\n",
        "print(f\"Addition: {num1 + num2}\")\n",
        "print(f\"Subtraction: {num1 - num2}\")\n",
        "print(f\"Multiplication: {num1 * num2}\")\n",
        "print(f\"Division: {num1 / num2}\")\n"
      ],
      "metadata": {
        "id": "EwqCvJQXVHgt"
      },
      "execution_count": null,
      "outputs": []
    },
    {
      "cell_type": "code",
      "source": [
        "#8. Write a program to demonstrate the use of logical operators.\n",
        "\n",
        "a = True\n",
        "b = False\n",
        "\n",
        "print(f\"a AND b: {a and b}\")\n",
        "print(f\"a OR b: {a or b}\")\n",
        "print(f\"NOT a: {not a}\")\n"
      ],
      "metadata": {
        "id": "gzMcaShFVXkB"
      },
      "execution_count": null,
      "outputs": []
    },
    {
      "cell_type": "code",
      "source": [
        "#9.Write a Python program to convert user input from string to integer, float, and boolean types.\n",
        "\n",
        "user_input = input(\"Enter something: \")\n",
        "\n",
        "int_val = int(user_input)\n",
        "float_val = float(user_input)\n",
        "bool_val = bool(int(user_input))  # Assuming user enters a number\n",
        "\n",
        "print(f\"Integer: {int_val}\")\n",
        "print(f\"Float: {float_val}\")\n",
        "print(f\"Boolean: {bool_val}\")\n"
      ],
      "metadata": {
        "id": "464SxV_SVhj5"
      },
      "execution_count": null,
      "outputs": []
    },
    {
      "cell_type": "code",
      "source": [
        "#10.Write code to demonstrate type casting with list elements.\n",
        "\n",
        "my_list = [\"1\", \"2\", \"3\"]\n",
        "\n",
        "int_list = [int(x) for x in my_list]\n",
        "float_list = [float(x) for x in my_list]\n",
        "\n",
        "print(f\"Original list: {my_list}\")\n",
        "print(f\"List of integers: {int_list}\")\n",
        "print(f\"List of floats: {float_list}\")\n"
      ],
      "metadata": {
        "id": "fVysQLvyV1aq"
      },
      "execution_count": null,
      "outputs": []
    },
    {
      "cell_type": "code",
      "source": [
        "#11.Write a program that checks if a number is positive, negative, or zero.\n",
        "\n",
        "num = float(input(\"Enter a number: \"))\n",
        "\n",
        "if num > 0:\n",
        "    print(\"The number is positive.\")\n",
        "elif num < 0:\n",
        "    print(\"The number is negative.\")\n",
        "else:\n",
        "    print(\"The number is zero.\")\n"
      ],
      "metadata": {
        "id": "2qOuyZKIWVjY"
      },
      "execution_count": null,
      "outputs": []
    },
    {
      "cell_type": "code",
      "source": [
        "#12. Write a for loop to print numbers from 1 to 10.\n",
        "for i in range(1, 11):\n",
        "    print(i)\n"
      ],
      "metadata": {
        "id": "KitdR_YMWiBj"
      },
      "execution_count": null,
      "outputs": []
    },
    {
      "cell_type": "code",
      "source": [
        "#13.Write a Python program to find the sum of all even numbers between 1 and 50\n",
        "sum_even = sum(i for i in range(1, 51) if i % 2 == 0)\n",
        "print(f\"Sum of even numbers between 1 and 50: {sum_even}\")\n"
      ],
      "metadata": {
        "id": "lfp9R_sWXHcU"
      },
      "execution_count": null,
      "outputs": []
    },
    {
      "cell_type": "code",
      "source": [
        "#14.Write a program to reverse a string using a while loop.\n",
        "string = input(\"Enter a string: \")\n",
        "reversed_string = \"\"\n",
        "i = len(string) - 1\n",
        "\n",
        "while i >= 0:\n",
        "    reversed_string += string[i]\n",
        "    i -= 1\n",
        "\n",
        "print(f\"Reversed string: {reversed_string}\")\n"
      ],
      "metadata": {
        "id": "ggiHu22QXUGU"
      },
      "execution_count": null,
      "outputs": []
    },
    {
      "cell_type": "code",
      "source": [
        "#15.Write a Python program to calculate the factorial of a number provided by the user using a while loop\n",
        "num = int(input(\"Enter a number: \"))\n",
        "factorial = 1\n",
        "i = 1\n",
        "\n",
        "while i <= num:\n",
        "    factorial *= i\n",
        "    i += 1\n",
        "\n",
        "print(f\"Factorial of {num}: {factorial}\")\n"
      ],
      "metadata": {
        "id": "0RETWP5CXkib"
      },
      "execution_count": null,
      "outputs": []
    }
  ]
}