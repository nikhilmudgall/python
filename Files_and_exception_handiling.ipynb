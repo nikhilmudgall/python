{
  "nbformat": 4,
  "nbformat_minor": 0,
  "metadata": {
    "colab": {
      "provenance": []
    },
    "kernelspec": {
      "name": "python3",
      "display_name": "Python 3"
    },
    "language_info": {
      "name": "python"
    }
  },
  "cells": [
    {
      "cell_type": "markdown",
      "source": [
        "#1.What is the difference between interpreted and compiled languages?\n",
        "\n",
        ">Compiled Languages: The code is translated into machine code (binary) by a compiler before execution. This makes compiled programs faster to run. Examples: C, C++.\n",
        "\n",
        ">Interpreted Languages: The code is executed line-by-line by an interpreter without a prior compilation step. This makes debugging easier but execution slower. Examples: Python, JavaScript"
      ],
      "metadata": {
        "id": "oIkVJ_Svbn0v"
      }
    },
    {
      "cell_type": "markdown",
      "source": [
        "#2.What is exception handling in Python?\n",
        "\n",
        ">Exception handling is a way to gracefully handle errors during program execution. Python uses try, except, else, and finally blocks to catch exceptions and execute specific actions when errors occur, preventing the program from crashing."
      ],
      "metadata": {
        "id": "9AEWffjdb31c"
      }
    },
    {
      "cell_type": "markdown",
      "source": [
        "#3.What is the purpose of the finally block in exception handling?\n",
        "\n",
        ">The finally block ensures that certain code is executed no matter what happens—whether an exception is raised or not. It’s commonly used for cleanup actions like closing files or releasing resources."
      ],
      "metadata": {
        "id": "QOCkP-AqcFEo"
      }
    },
    {
      "cell_type": "markdown",
      "source": [
        "#4.What is logging in Python?\n",
        "\n",
        ">Logging is a way to track and record events during program execution. Python's logging module provides functions to log messages at various levels (DEBUG, INFO, WARNING, ERROR, CRITICAL). It’s useful for debugging and monitoring applications."
      ],
      "metadata": {
        "id": "C173p73WcMnP"
      }
    },
    {
      "cell_type": "markdown",
      "source": [
        "#5.What is the significance of the __ del __ method in Python?\n",
        "\n",
        ">The __ del __ method is a special destructor method in Python. It’s called when an object is about to be destroyed, helping clean up resources (like closing database connections). However, relying too heavily on __ del __ is discouraged as Python’s garbage collector usually handles object cleanup."
      ],
      "metadata": {
        "id": "Kf9qRrbPcc5Y"
      }
    },
    {
      "cell_type": "markdown",
      "source": [
        "#6.What is the difference between import and from ... import in Python?\n",
        "\n",
        ">import Statement: Imports the entire module. You access its functions or classes using the module name as a prefix.\n",
        "\n",
        ">from ... import Statement: Imports specific attributes (functions, classes, etc.) from a module, allowing direct access without the module prefix."
      ],
      "metadata": {
        "id": "r3VCPoPqcve1"
      }
    },
    {
      "cell_type": "markdown",
      "source": [
        "#7.How can you handle multiple exceptions in Python?\n",
        "\n",
        ">You can handle multiple exceptions in a single except block using parentheses.\n",
        "\n",
        ">Alternatively, use multiple except blocks to handle exceptions separately."
      ],
      "metadata": {
        "id": "CKMu_iXmdqDU"
      }
    },
    {
      "cell_type": "markdown",
      "source": [
        "#8.What is the purpose of the with statement when handling files in Python?\n",
        "\n",
        ">The with statement simplifies file handling by automatically closing the file after the block is executed, even if an exception occurs"
      ],
      "metadata": {
        "id": "z6khws06eGnK"
      }
    },
    {
      "cell_type": "markdown",
      "source": [
        "#9.What is the difference between multithreading and multiprocessing?\n",
        "\n",
        ">Multithreading: Involves multiple threads running within the same process, sharing memory space. It's suitable for I/O-bound tasks but may face performance limits due to the Global Interpreter Lock (GIL) in Python.\n",
        "\n",
        ">Multiprocessing: Involves multiple processes, each with its own memory space, bypassing the GIL. It's more suitable for CPU-bound tasks but incurs higher memory usage and overhead."
      ],
      "metadata": {
        "id": "Fm_TO8axeXs3"
      }
    },
    {
      "cell_type": "markdown",
      "source": [
        "#10.What are the advantages of using logging in a program?\n",
        "\n",
        ">Provides a way to track events during program execution.\n",
        "\n",
        ">Helps identify and debug errors efficiently.\n",
        "\n",
        ">Offers different log levels (e.g., DEBUG, INFO, WARNING, ERROR, CRITICAL) for organized output.\n",
        "\n",
        ">Enables saving logs to files for later analysis.\n",
        "\n",
        ">Facilitates better monitoring and auditing in production environments."
      ],
      "metadata": {
        "id": "0Jjqxjvceqmp"
      }
    },
    {
      "cell_type": "markdown",
      "source": [
        "#11.What is memory management in Python?\n",
        "\n",
        ">Memory management in Python refers to the process of allocating and deallocating memory for objects in a program. Python uses an automatic memory management system that ensures efficient utilization of memory. The key components are:\n",
        "\n",
        ">Heap Memory: Memory where Python stores objects and data.\n",
        "\n",
        ">Garbage Collector: Automatically deallocates memory occupied by unused objects.\n",
        "\n",
        ">Reference Counting: Tracks the number of references to an object."
      ],
      "metadata": {
        "id": "6CcV-2DpfAfw"
      }
    },
    {
      "cell_type": "markdown",
      "source": [
        "#12.What are the basic steps involved in exception handling in Python?\n",
        "\n",
        ">Try Block: Contains the code that may raise an exception.\n",
        "\n",
        ">Except Block: Handles the exception and specifies what should happen when an error occurs.\n",
        "\n",
        ">Else Block (Optional): Executes code if no exceptions are raised.\n",
        "\n",
        ">Finally Block (Optional): Executes code regardless of whether an exception occurred or not."
      ],
      "metadata": {
        "id": "V9LtXvhtfYSp"
      }
    },
    {
      "cell_type": "markdown",
      "source": [
        "#13.Why is memory management important in Python?\n",
        "\n",
        ">Efficient memory management ensures optimal use of resources and prevents memory leaks.\n",
        "\n",
        ">It allows programs to run smoothly without exhausting system memory.\n",
        "\n",
        ">Python’s built-in garbage collection system simplifies memory management for developers, reducing the risk of errors."
      ],
      "metadata": {
        "id": "DzQpHZCYfjdg"
      }
    },
    {
      "cell_type": "markdown",
      "source": [
        "#14.What is the role of try and except in exception handling?\n",
        "\n",
        ">The try block identifies code that might cause an exception and allows the program to attempt execution.\n",
        "\n",
        ">The except block catches the exception and specifies the actions to take, preventing the program from crashing."
      ],
      "metadata": {
        "id": "qgEsswuNfwRB"
      }
    },
    {
      "cell_type": "markdown",
      "source": [
        "#15.How does Python's garbage collection system work?\n",
        "\n",
        ">Python uses reference counting to keep track of the number of references to an object. When the reference count drops to zero, the object is no longer in use and becomes eligible for garbage collection.\n",
        "\n",
        ">The garbage collector detects cyclic references (objects referring to each other) and breaks the cycle to free memory.\n",
        "\n",
        ">Developers can manually invoke the garbage collector using the gc module, though this is rarely necessary."
      ],
      "metadata": {
        "id": "VSBWdss2f5mH"
      }
    },
    {
      "cell_type": "markdown",
      "source": [
        "#16.What is the purpose of the else block in exception handling?\n",
        "\n",
        ">The else block is used to execute code only if no exceptions are raised in the try block. It’s useful for code that should run when everything goes smoothly"
      ],
      "metadata": {
        "id": "x7eJFKawgICW"
      }
    },
    {
      "cell_type": "markdown",
      "source": [
        "#17.What are the common logging levels in Python?\n",
        "\n",
        ">Python’s logging module provides several levels to categorize the severity of log messages:\n",
        "\n",
        ">DEBUG: Detailed information, typically for developers.\n",
        "\n",
        ">INFO: General information about program execution.\n",
        "\n",
        ">WARNING: An indication that something unexpected happened, but the program is still running.\n",
        "\n",
        ">ERROR: A more severe issue that prevents part of the program from functioning.\n",
        "\n",
        ">CRITICAL: A very serious error that might stop the program entirely."
      ],
      "metadata": {
        "id": "5gNDla5qgc95"
      }
    },
    {
      "cell_type": "markdown",
      "source": [
        "#18.What is the difference between os.fork() and multiprocessing in Python?\n",
        "\n",
        ">os.fork(): Creates a child process by duplicating the current process. It’s only available on Unix-like systems and gives you low-level control but requires more effort to manage.\n",
        "\n",
        ">multiprocessing: A high-level module for process creation, cross-platform compatible, and easier to use. It abstracts details like inter-process communication and synchronization."
      ],
      "metadata": {
        "id": "zG9SW3SjgyUi"
      }
    },
    {
      "cell_type": "markdown",
      "source": [
        "#19.What is the importance of closing a file in Python?\n",
        "\n",
        ">Closing a file ensures that all data is properly written (in case of write operations) and resources associated with the file are released. Not closing files may lead to memory leaks or errors when trying to access the file later.\n",
        "\n",
        ">Using with statement: The with statement automatically closes files, making it a better practice: python with open(\"example.txt\", \"r\") as file: content = file.read() # File is automatically closed here"
      ],
      "metadata": {
        "id": "CoJriVMCg_KL"
      }
    },
    {
      "cell_type": "markdown",
      "source": [
        "#20.What is the difference between file.read() and file.readline() in Python?\n",
        "\n",
        ">file.read(): Reads the entire file as a single string (or a specified number of characters if an argument is provided).\n",
        "\n",
        ">file.readline(): Reads only a single line from the file at a time."
      ],
      "metadata": {
        "id": "twAH_ynChNnq"
      }
    },
    {
      "cell_type": "markdown",
      "source": [
        "#21.What is the logging module in Python used for?\n",
        "\n",
        ">The logging module is used to record events during program execution. It helps developers monitor programs, troubleshoot issues, and store logs for analysis. You can log messages at different levels, such as DEBUG, INFO, WARNING, ERROR, and CRITICAL. These logs can be saved to files or displayed in the console."
      ],
      "metadata": {
        "id": "4QTsZsl4hlCS"
      }
    },
    {
      "cell_type": "markdown",
      "source": [
        "#22.What is the os module in Python used for in file handling?\n",
        "\n",
        ">The os module provides functions to interact with the operating system. For file handling, it allows you to perform tasks like:\n",
        "\n",
        ">Checking file existence (os.path.exists()).\n",
        "\n",
        ">Renaming files (os.rename()).\n",
        "\n",
        ">Removing files (os.remove()).\n",
        "\n",
        ">Creating directories (os.mkdir()) and much more."
      ],
      "metadata": {
        "id": "ikROpcTVh3xv"
      }
    },
    {
      "cell_type": "markdown",
      "source": [
        "#23.What are the challenges associated with memory management in Python?\n",
        "\n",
        ">Python’s automatic memory management via garbage collection simplifies development, but there are challenges:\n",
        "\n",
        ">Circular References: Objects referencing each other may not be automatically freed, requiring manual intervention.\n",
        "\n",
        ">Memory Leaks: Improper handling of external resources or leftover references may lead to memory leaks.\n",
        "\n",
        ">GIL (Global Interpreter Lock): For multi-threaded programs, the GIL restricts full parallelism, impacting performance."
      ],
      "metadata": {
        "id": "BQFZMWXuiD4c"
      }
    },
    {
      "cell_type": "markdown",
      "source": [
        "#24.How do you raise an exception manually in Python?\n",
        "\n",
        ">You can manually raise exceptions using the raise keyword, specifying the exception type"
      ],
      "metadata": {
        "id": "KFwVAvQziRm3"
      }
    },
    {
      "cell_type": "markdown",
      "source": [
        "#25.Why is it important to use multithreading in certain applications?\n",
        "\n",
        ">Multithreading is crucial for improving performance in I/O-bound tasks (e.g., file reading, network requests) by running threads concurrently. It allows applications to remain responsive by performing multiple tasks simultaneously. However, for CPU-bound tasks, multiprocessing is often better due to Python’s GIL."
      ],
      "metadata": {
        "id": "xa5EIddJig9r"
      }
    },
    {
      "cell_type": "markdown",
      "source": [
        "#Practical Questions"
      ],
      "metadata": {
        "id": "X5T-QSDSiy8s"
      }
    },
    {
      "cell_type": "code",
      "source": [
        "#1.How can you open a file for writing in Python and write a string to it?\n",
        "\n",
        "with open(\"output.txt\", \"w\") as file:\n",
        "    file.write(\"This is a string written to the file.\")\n"
      ],
      "metadata": {
        "id": "-8QstkGEjAwD"
      },
      "execution_count": 3,
      "outputs": []
    },
    {
      "cell_type": "code",
      "source": [
        "#2.Write a Python program to read the contents of a file and print each line.\n",
        "\n",
        "with open(\"output.txt\", \"r\") as file:\n",
        "    for line in file:\n",
        "        print(line.strip())  # Strip removes extra newline characters\n",
        "\n"
      ],
      "metadata": {
        "colab": {
          "base_uri": "https://localhost:8080/"
        },
        "id": "7ns-8yXajS9V",
        "outputId": "6d4427a0-533f-474b-87fa-5d6b9bd018de"
      },
      "execution_count": 4,
      "outputs": [
        {
          "output_type": "stream",
          "name": "stdout",
          "text": [
            "This is a string written to the file.\n"
          ]
        }
      ]
    },
    {
      "cell_type": "code",
      "source": [
        "#3.How would you handle a case where the file doesn't exist while trying to open it for reading?\n",
        "\n",
        "try:\n",
        "    with open(\"nonexistent.txt\", \"r\") as file:\n",
        "        content = file.read()\n",
        "except FileNotFoundError:\n",
        "    print(\"The file does not exist.\")\n"
      ],
      "metadata": {
        "colab": {
          "base_uri": "https://localhost:8080/"
        },
        "id": "29YOF6qtjo8a",
        "outputId": "15e01a44-414e-48f9-acc7-2e6ac400b4b4"
      },
      "execution_count": 5,
      "outputs": [
        {
          "output_type": "stream",
          "name": "stdout",
          "text": [
            "The file does not exist.\n"
          ]
        }
      ]
    },
    {
      "cell_type": "code",
      "source": [
        "#4.Write a Python script that reads from one file and writes its content to another file.\n",
        "\n",
        "with open(\"output.txt\", \"r\") as source_file:\n",
        "    content = source_file.read()\n",
        "with open(\"destination.txt\", \"w\") as destination_file:\n",
        "    destination_file.write(content)\n"
      ],
      "metadata": {
        "id": "II0owg0voGgt"
      },
      "execution_count": 6,
      "outputs": []
    },
    {
      "cell_type": "code",
      "source": [
        "#5.How would you catch and handle division by zero error in Python?\n",
        "\n",
        "try:\n",
        "    result = 10 / 0\n",
        "except ZeroDivisionError:\n",
        "    print(\"Division by zero is not allowed.\")\n"
      ],
      "metadata": {
        "colab": {
          "base_uri": "https://localhost:8080/"
        },
        "id": "TjlJzjeGog0k",
        "outputId": "26e11a36-5931-49cd-ed97-b3d92251540d"
      },
      "execution_count": 7,
      "outputs": [
        {
          "output_type": "stream",
          "name": "stdout",
          "text": [
            "Division by zero is not allowed.\n"
          ]
        }
      ]
    },
    {
      "cell_type": "code",
      "source": [
        "#6.Write a Python program that logs an error message to a log file when a division by zero exception occurs.\n",
        "\n",
        "import logging\n",
        "\n",
        "logging.basicConfig(filename=\"error.log\", level=logging.ERROR)\n",
        "\n",
        "try:\n",
        "    result = 10 / 0\n",
        "except ZeroDivisionError:\n",
        "    logging.error(\"Division by zero attempted.\")\n"
      ],
      "metadata": {
        "colab": {
          "base_uri": "https://localhost:8080/"
        },
        "id": "jdo75y0zowNu",
        "outputId": "562eac53-d45e-4f20-ab17-6e4b9e7305aa"
      },
      "execution_count": 8,
      "outputs": [
        {
          "output_type": "stream",
          "name": "stderr",
          "text": [
            "ERROR:root:Division by zero attempted.\n"
          ]
        }
      ]
    },
    {
      "cell_type": "code",
      "source": [
        "#7.How do you log information at different levels (INFO, ERROR, WARNING) in Python using the logging module?\n",
        "\n",
        "import logging\n",
        "\n",
        "logging.basicConfig(level=logging.DEBUG)\n",
        "\n",
        "logging.debug(\"This is a DEBUG message.\")\n",
        "logging.info(\"This is an INFO message.\")\n",
        "logging.warning(\"This is a WARNING message.\")\n",
        "logging.error(\"This is an ERROR message.\")\n",
        "logging.critical(\"This is a CRITICAL message.\")\n"
      ],
      "metadata": {
        "colab": {
          "base_uri": "https://localhost:8080/"
        },
        "id": "vTqlJlwppCn4",
        "outputId": "cab4f7cc-5c2b-42fc-c71b-f283c35a7d35"
      },
      "execution_count": 9,
      "outputs": [
        {
          "output_type": "stream",
          "name": "stderr",
          "text": [
            "WARNING:root:This is a WARNING message.\n",
            "ERROR:root:This is an ERROR message.\n",
            "CRITICAL:root:This is a CRITICAL message.\n"
          ]
        }
      ]
    },
    {
      "cell_type": "code",
      "source": [
        "#8.Write a program to handle a file opening error using exception handling.\n",
        "\n",
        "try:\n",
        "    with open(\"nonexistent_file.txt\", \"r\") as file:\n",
        "        content = file.read()\n",
        "except FileNotFoundError:\n",
        "    print(\"Error: The file does not exist.\")\n"
      ],
      "metadata": {
        "colab": {
          "base_uri": "https://localhost:8080/"
        },
        "id": "RW7TG4NPpbuK",
        "outputId": "639a34a2-4904-4075-8e57-4de7695ac4fa"
      },
      "execution_count": 10,
      "outputs": [
        {
          "output_type": "stream",
          "name": "stdout",
          "text": [
            "Error: The file does not exist.\n"
          ]
        }
      ]
    },
    {
      "cell_type": "code",
      "source": [
        "#9.How can you read a file line by line and store its content in a list in Python?\n",
        "\n",
        "with open(\"output.txt\", \"r\") as file:\n",
        "    lines = [line.strip() for line in file]  # Strip removes newline characters\n",
        "print(lines)\n"
      ],
      "metadata": {
        "colab": {
          "base_uri": "https://localhost:8080/"
        },
        "id": "7OGdbp2UpmSt",
        "outputId": "85118603-0d87-42d7-dd9d-d08fd54ccd99"
      },
      "execution_count": 40,
      "outputs": [
        {
          "output_type": "stream",
          "name": "stdout",
          "text": [
            "['This is a string written to the file.', 'Appending this new line to the file.']\n"
          ]
        }
      ]
    },
    {
      "cell_type": "code",
      "source": [
        "#10.How can you append data to an existing file in Python?\n",
        "\n",
        "with open(\"output.txt\", \"a\") as file:\n",
        "    file.write(\"\\nAppending this new line to the file.\")\n"
      ],
      "metadata": {
        "id": "u4JENCMgp3-d"
      },
      "execution_count": 12,
      "outputs": []
    },
    {
      "cell_type": "code",
      "source": [
        "#11.Write a Python program that uses a try-except block to handle an error when attempting to access a dictionary key that doesn't exist\n",
        "\n",
        "my_dict = {\"key1\": \"value1\", \"key2\": \"value2\"}\n",
        "\n",
        "try:\n",
        "    value = my_dict[\"key3\"]  # Attempt to access a key that doesn't exist\n",
        "except KeyError:\n",
        "    print(\"Error: Key does not exist in the dictionary.\")\n"
      ],
      "metadata": {
        "colab": {
          "base_uri": "https://localhost:8080/"
        },
        "id": "zGq2wH9VqoL_",
        "outputId": "7c6c9d2f-2676-4b6d-fe2c-4bf8a44e572d"
      },
      "execution_count": 13,
      "outputs": [
        {
          "output_type": "stream",
          "name": "stdout",
          "text": [
            "Error: Key does not exist in the dictionary.\n"
          ]
        }
      ]
    },
    {
      "cell_type": "code",
      "source": [
        "#12.Write a program that demonstrates using multiple except blocks to handle different types of exceptions.\n",
        "\n",
        "try:\n",
        "    result = 10 / 0  # Division by zero\n",
        "except ZeroDivisionError:\n",
        "    print(\"Error: Cannot divide by zero.\")\n",
        "except Exception as e:\n",
        "    print(f\"An unexpected error occurred: {e}\")\n"
      ],
      "metadata": {
        "colab": {
          "base_uri": "https://localhost:8080/"
        },
        "id": "-fr_eMo_rAQ3",
        "outputId": "1190db4e-62ca-4b77-d5a7-5fedd8753085"
      },
      "execution_count": 41,
      "outputs": [
        {
          "output_type": "stream",
          "name": "stdout",
          "text": [
            "Error: Cannot divide by zero.\n"
          ]
        }
      ]
    },
    {
      "cell_type": "code",
      "source": [
        "#13.How would you check if a file exists before attempting to read it in Python.\n",
        "\n",
        "import os\n",
        "\n",
        "filename = \"output.txt\"\n",
        "\n",
        "if os.path.exists(filename):\n",
        "    with open(filename, \"r\") as file:\n",
        "        content = file.read()\n",
        "        print(content)\n",
        "else:\n",
        "    print(\"Error: File does not exist.\")\n"
      ],
      "metadata": {
        "colab": {
          "base_uri": "https://localhost:8080/"
        },
        "id": "sam-6ogBrPJK",
        "outputId": "a1102b2f-f298-460c-b422-cdef9ce6b575"
      },
      "execution_count": 19,
      "outputs": [
        {
          "output_type": "stream",
          "name": "stdout",
          "text": [
            "This is a string written to the file.\n",
            "Appending this new line to the file.\n"
          ]
        }
      ]
    },
    {
      "cell_type": "code",
      "source": [
        "#14.Write a program that uses the logging module to log both informational and error messages.\n",
        "\n",
        "import logging\n",
        "\n",
        "\n",
        "logging.basicConfig(filename=\"app.log\", level=logging.DEBUG)\n",
        "\n",
        "try:\n",
        "    logging.info(\"Program started.\")\n",
        "    result = 10 / 0  # This will raise an exception\n",
        "except ZeroDivisionError:\n",
        "    logging.error(\"Division by zero attempted.\")\n",
        "finally:\n",
        "    logging.info(\"Program ended.\")\n"
      ],
      "metadata": {
        "id": "ftytqHN1scyH"
      },
      "execution_count": 23,
      "outputs": []
    },
    {
      "cell_type": "code",
      "source": [
        "#15.Write a Python program that prints the content of a file and handles the case when the file is empty.\n",
        "\n",
        "try:\n",
        "    with open(\"output.txt\", \"r\") as file:\n",
        "        content = file.read()\n",
        "        if not content:  # Check if the file is empty\n",
        "            print(\"The file is empty.\")\n",
        "        else:\n",
        "            print(content)\n",
        "except FileNotFoundError:\n",
        "    print(\"Error: File does not exist.\")\n"
      ],
      "metadata": {
        "colab": {
          "base_uri": "https://localhost:8080/"
        },
        "id": "UoVWUwu0s8pc",
        "outputId": "a1e827d1-5766-4e55-c6d4-6a7b45a06f9c"
      },
      "execution_count": 24,
      "outputs": [
        {
          "output_type": "stream",
          "name": "stdout",
          "text": [
            "This is a string written to the file.\n",
            "Appending this new line to the file.\n"
          ]
        }
      ]
    },
    {
      "cell_type": "code",
      "source": [
        "#16.Demonstrate how to use memory profiling to check the memory usage of a small program.\n",
        "\n",
        "!pip install memory_profiler\n",
        "\n",
        "from memory_profiler import profile\n",
        "\n",
        "@profile\n",
        "def my_function():\n",
        "    a = [i for i in range(100000)]  # Creating a large list\n",
        "    return a\n",
        "\n",
        "if __name__ == \"__main__\":\n",
        "    my_function()\n",
        "\n",
        "@profile\n",
        "def my_function():\n",
        "    a = [i for i in range(100000)]  # Creating a large list\n",
        "    return a\n",
        "\n",
        "if __name__ == \"__main__\":\n",
        "    my_function()\n"
      ],
      "metadata": {
        "id": "eS8kZQgjtWlC"
      },
      "execution_count": null,
      "outputs": []
    },
    {
      "cell_type": "code",
      "source": [
        "#17.Write a Python program to create and write a list of numbers to a file, one number per line.\n",
        "\n",
        "numbers = [1, 2, 3, 4, 5]\n",
        "\n",
        "with open(\"numbers.txt\", \"w\") as file:\n",
        "    for number in numbers:\n",
        "        file.write(f\"{number}\\n\")\n"
      ],
      "metadata": {
        "id": "kXNzi-OatpK2"
      },
      "execution_count": 30,
      "outputs": []
    },
    {
      "cell_type": "code",
      "source": [
        "#18.How would you implement a basic logging setup that logs to a file with rotation after 1MB?\n",
        "\n",
        "import logging\n",
        "from logging.handlers import RotatingFileHandler\n",
        "\n",
        "logger = logging.getLogger(\"MyLogger\")\n",
        "logger.setLevel(logging.DEBUG)\n",
        "\n",
        "handler = RotatingFileHandler(\"app.log\", maxBytes=1_000_000, backupCount=3)\n",
        "logger.addHandler(handler)\n",
        "\n",
        "logger.info(\"This is an informational message.\")\n",
        "logger.error(\"This is an error message.\")\n"
      ],
      "metadata": {
        "id": "EoUKBTA_uXOq"
      },
      "execution_count": 31,
      "outputs": []
    },
    {
      "cell_type": "code",
      "source": [
        "#19.Write a program that handles both IndexError and KeyError using a try-except block.\n",
        "\n",
        "try:\n",
        "    my_list = [1, 2, 3]\n",
        "    element = my_list[5]\n",
        "except (IndexError)as e:\n",
        "    print(\"SOME ERROR.\",e)\n",
        "try:\n",
        "    my_dict = {\"key1\": \"value1\"}\n",
        "    value = my_dict[\"key2\"]\n",
        "except (KeyError)as e:\n",
        "    print(\"SOME ERROR.\",e)\n"
      ],
      "metadata": {
        "colab": {
          "base_uri": "https://localhost:8080/"
        },
        "id": "SwM0SxELuhiI",
        "outputId": "54ba6bb5-60f0-4c58-9760-9b2aaef3da2f"
      },
      "execution_count": 34,
      "outputs": [
        {
          "output_type": "stream",
          "name": "stdout",
          "text": [
            "SOME ERROR. list index out of range\n",
            "SOME ERROR. 'key2'\n"
          ]
        }
      ]
    },
    {
      "cell_type": "code",
      "source": [
        "#20.How would you open a file and read its contents using a context manager in Python.\n",
        "\n",
        "with open(\"output.txt\", \"r\") as file:\n",
        "    content = file.read()\n",
        "    print(content)\n"
      ],
      "metadata": {
        "colab": {
          "base_uri": "https://localhost:8080/"
        },
        "id": "nkOr1RFkvZX9",
        "outputId": "58ae9697-d9b1-4f74-b50a-6dbff2cd33c7"
      },
      "execution_count": 35,
      "outputs": [
        {
          "output_type": "stream",
          "name": "stdout",
          "text": [
            "This is a string written to the file.\n",
            "Appending this new line to the file.\n"
          ]
        }
      ]
    },
    {
      "cell_type": "code",
      "source": [
        "#21.Write a Python program that reads a file and prints the number of occurrences of a specific word.\n",
        "\n",
        "word_to_count = \"appends\"\n",
        "\n",
        "try:\n",
        "    with open(\"output.txt\", \"r\") as file:\n",
        "        content = file.read().lower()  # Read the content and convert it to lowercase\n",
        "        occurrences = content.split().count(word_to_count.lower())\n",
        "    print(f\"The word '{word_to_count}' appears {occurrences} time(s) in the file.\")\n",
        "except FileNotFoundError:\n",
        "    print(\"Error: The file does not exist.\")\n"
      ],
      "metadata": {
        "colab": {
          "base_uri": "https://localhost:8080/"
        },
        "id": "-axdAUPbvq6U",
        "outputId": "ba99e8f0-ef9f-4621-b649-20310d7e1b30"
      },
      "execution_count": 37,
      "outputs": [
        {
          "output_type": "stream",
          "name": "stdout",
          "text": [
            "The word 'appends' appears 0 time(s) in the file.\n"
          ]
        }
      ]
    },
    {
      "cell_type": "code",
      "source": [
        "#22.How can you check if a file is empty before attempting to read its contents.\n",
        "\n",
        "import os\n",
        "\n",
        "filename = \"output.txt\"\n",
        "\n",
        "if os.path.exists(filename):\n",
        "    if os.stat(filename).st_size == 0:  # Check if file size is 0\n",
        "        print(\"The file is empty.\")\n",
        "    else:\n",
        "        with open(filename, \"r\") as file:\n",
        "            content = file.read()\n",
        "            print(\"File content:\")\n",
        "            print(content)\n",
        "else:\n",
        "    print(\"Error: File does not exist.\")\n"
      ],
      "metadata": {
        "colab": {
          "base_uri": "https://localhost:8080/"
        },
        "id": "UB2RnqQ5wFq0",
        "outputId": "053d0916-b736-4233-ae44-e57eec4d7b12"
      },
      "execution_count": 38,
      "outputs": [
        {
          "output_type": "stream",
          "name": "stdout",
          "text": [
            "File content:\n",
            "This is a string written to the file.\n",
            "Appending this new line to the file.\n"
          ]
        }
      ]
    },
    {
      "cell_type": "code",
      "source": [
        "#23.Write a Python program that writes to a log file when an error occurs during file handling.\n",
        "\n",
        "import logging\n",
        "\n",
        "# Configure logging\n",
        "logging.basicConfig(filename=\"file_errors.log\", level=logging.ERROR)\n",
        "\n",
        "try:\n",
        "    with open(\"nonexistent_file.txt\", \"r\") as file:\n",
        "        content = file.read()\n",
        "except FileNotFoundError:\n",
        "    logging.error(\"Error: The file does not exist.\")\n",
        "    print(\"An error occurred. Check the log file for details.\")\n"
      ],
      "metadata": {
        "colab": {
          "base_uri": "https://localhost:8080/"
        },
        "id": "v-4RR8fwwT4u",
        "outputId": "49f8cb8f-baaf-4e16-a9cd-25605b415d98"
      },
      "execution_count": 39,
      "outputs": [
        {
          "output_type": "stream",
          "name": "stdout",
          "text": [
            "An error occurred. Check the log file for details.\n"
          ]
        }
      ]
    }
  ]
}