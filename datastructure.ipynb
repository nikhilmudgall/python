{
  "nbformat": 4,
  "nbformat_minor": 0,
  "metadata": {
    "colab": {
      "provenance": []
    },
    "kernelspec": {
      "name": "python3",
      "display_name": "Python 3"
    },
    "language_info": {
      "name": "python"
    }
  },
  "cells": [
    {
      "cell_type": "markdown",
      "source": [
        "#1.What are data structures, and why are they important ?\n",
        ">Data structures are ways of organizing and storing data so that they can be accessed and modified efficiently. They are important because they provide a means to manage large amounts of data and perform operations such as searching, sorting, and modifying the data in an efficient manner"
      ],
      "metadata": {
        "id": "q_a8DoIhT1_9"
      }
    },
    {
      "cell_type": "markdown",
      "source": [
        "#2. Explain the difference between mutable and immutable data types with examples\n",
        "\n",
        ">Mutable data types can be changed after their creation. Examples include lists and dictionaries.\n",
        "\n",
        ">Immutable data types cannot be changed once created. Examples include tuples and strings."
      ],
      "metadata": {
        "id": "-sUCNXTcUXV3"
      }
    },
    {
      "cell_type": "markdown",
      "source": [
        "#3.What are the main differences between lists and tuples in Python?\n",
        "\n",
        ">Lists are mutable, meaning their elements can be modified. Tuples are immutable, so once created, they cannot be changed.\n",
        "\n",
        ">Lists have dynamic size, while tuples have a fixed size.\n",
        "\n",
        ">Lists have more built-in methods compared to tuples."
      ],
      "metadata": {
        "id": "h398sSdmU1Dn"
      }
    },
    {
      "cell_type": "markdown",
      "source": [
        "#4.Describe how dictionaries store data.\n",
        "\n",
        ">Dictionaries store data in key-value pairs. Each key is unique, and it maps to a value. This allows for fast lookups, additions, and deletions of data"
      ],
      "metadata": {
        "id": "7VfafHJ4VhuB"
      }
    },
    {
      "cell_type": "markdown",
      "source": [
        "#5.Why might you use a set instead of a list in Python?\n",
        "\n",
        ">Sets are unordered collections of unique elements. They are useful when you need to eliminate duplicates and perform set operations like unions and intersections efficiently"
      ],
      "metadata": {
        "id": "HSnILG6dVzvR"
      }
    },
    {
      "cell_type": "markdown",
      "source": [
        "#6.What is a string in Python, and how is it different from a list?\n",
        "\n",
        ">A string is a sequence of characters. It is immutable, meaning once created, it cannot be changed.\n",
        "\n",
        ">A list, on the other hand, is a collection of elements that can be of different data types and is mutable"
      ],
      "metadata": {
        "id": "FKKs_GDRXcmT"
      }
    },
    {
      "cell_type": "markdown",
      "source": [
        "#7.How do tuples ensure data integrity in Python.\n",
        "\n",
        ">Tuples ensure data integrity by being immutable. This means once a tuple is created, its contents cannot be modified, preventing accidental changes to the data."
      ],
      "metadata": {
        "id": "tEkPPSG5X2X5"
      }
    },
    {
      "cell_type": "markdown",
      "source": [
        "#8.What is a hash table, and how does it relate to dictionaries in Python?\n",
        "\n",
        ">A hash table is a data structure that maps keys to values using a hash function. In Python, dictionaries are implemented using hash tables, allowing for fast key-value pair lookups"
      ],
      "metadata": {
        "id": "NPtq2x7dYRv2"
      }
    },
    {
      "cell_type": "markdown",
      "source": [
        "#9.Can lists contain different data types in Python.\n",
        "\n",
        ">Yes, lists in Python can contain elements of different data types, including integers, strings, and even other lists."
      ],
      "metadata": {
        "id": "RfDPmSKQd7O9"
      }
    },
    {
      "cell_type": "markdown",
      "source": [
        "#10.Explain why strings are immutable in Python.\n",
        "\n",
        ">Strings are immutable in Python to ensure data integrity and security. Immutable objects can be shared safely between multiple parts of a program without unexpected changes."
      ],
      "metadata": {
        "id": "PzyNJJGEebMT"
      }
    },
    {
      "cell_type": "markdown",
      "source": [
        "#11.What advantages do dictionaries offer over lists for certain tasks?\n",
        "\n",
        ">Dictionaries allow for fast lookups, insertions, and deletions based on keys, while lists require iteration over elements.\n",
        "\n",
        ">Dictionaries use key-value pairs, making them suitable for associative arrays and mappings where keys provide meaningful context"
      ],
      "metadata": {
        "id": "Y0WTFwepe59a"
      }
    },
    {
      "cell_type": "markdown",
      "source": [
        "#12.Describe a scenario where using a tuple would be preferable over a list.\n",
        "\n",
        "\n",
        ">When you need an immutable sequence of items, such as storing coordinates (x, y) or fixed settings, tuples ensure the data cannot be accidentally modified."
      ],
      "metadata": {
        "id": "KlSHT3lkgbUU"
      }
    },
    {
      "cell_type": "markdown",
      "source": [
        "#13.How do sets handle duplicate values in Python.\n",
        "\n",
        ">Sets automatically eliminate duplicate values. When elements are added to a set, any duplicates are discarded, ensuring all elements are unique."
      ],
      "metadata": {
        "id": "eXfyoaslgvuB"
      }
    },
    {
      "cell_type": "markdown",
      "source": [
        "#14.How does the “in” keyword work differently for lists and dictionaries.\n",
        "\n",
        ">For lists, in checks if a value exists in the list.\n",
        "\n",
        ">For dictionaries, in checks if a key exists in the dictionary"
      ],
      "metadata": {
        "id": "dgwv_Q05iMbj"
      }
    },
    {
      "cell_type": "markdown",
      "source": [
        "#15.Can you modify the elements of a tuple? Explain why or why not?\n",
        "\n",
        ">You cannot modify elements of a tuple because tuples are immutable. This immutability ensures that the data remains constant and secure"
      ],
      "metadata": {
        "id": "xtwaFpR1ir1c"
      }
    },
    {
      "cell_type": "markdown",
      "source": [
        "#16.What is a nested dictionary, and give an example of its use case?\n",
        "\n",
        ">A nested dictionary is a dictionary within a dictionary. It's useful for hierarchical data, such as a dictionary of students with each student having a dictionary of their courses and grades.\n",
        "\n",
        "\n",
        "    students = {\n",
        "    \"Alice\": {\"Math\": 85, \"Science\": 92},\n",
        "    \"Bob\": {\"Math\": 78, \"Science\": 88}\n",
        "    }\n"
      ],
      "metadata": {
        "id": "s_VZVMKqkNtF"
      }
    },
    {
      "cell_type": "markdown",
      "source": [
        "#17.Describe the time complexity of accessing elements in a dictionary.\n",
        "\n",
        ">Accessing elements in a dictionary typically has O(1) average time complexity due to the underlying hash table implementation"
      ],
      "metadata": {
        "id": "oS81149skmDw"
      }
    },
    {
      "cell_type": "markdown",
      "source": [
        "#18.In what situations are lists preferred over dictionaries.\n",
        "\n",
        ">When order matters and you need to access elements by position.\n",
        "\n",
        ">When the data is small and does not require key-value pairs."
      ],
      "metadata": {
        "id": "-LOsXSDxmVZK"
      }
    },
    {
      "cell_type": "markdown",
      "source": [
        "#19.Why are dictionaries considered unordered, and how does that affect data retrieval?\n",
        "\n",
        ">Dictionaries do not maintain any specific order of elements, which can affect the iteration order. However, the insertion order is preserved in Python 3.7 and later"
      ],
      "metadata": {
        "id": "1CHvrUMEobto"
      }
    },
    {
      "cell_type": "markdown",
      "source": [
        "#20.P Explain the difference between a list and a dictionary in terms of data retrieval.\n",
        "\n",
        ">Lists use indices for retrieval, suitable for ordered data.\n",
        "\n",
        ">Dictionaries use keys for retrieval, suitable for associative data with quick lookups"
      ],
      "metadata": {
        "id": "d8916q_vozu_"
      }
    },
    {
      "cell_type": "markdown",
      "source": [
        "#Practical Question"
      ],
      "metadata": {
        "id": "4lkYBd7LeySJ"
      }
    },
    {
      "cell_type": "code",
      "source": [
        "#1. Write a code to create a string with your name and print it.\n",
        "a = \"Sachin\"\n",
        "print(a)"
      ],
      "metadata": {
        "id": "HbKAV3V9e7Wn"
      },
      "execution_count": null,
      "outputs": []
    },
    {
      "cell_type": "code",
      "source": [
        "#2.Write a code to find the length of the string \"Hello World\".\n",
        "a = \"Hello World\"\n",
        "print(len(a))"
      ],
      "metadata": {
        "id": "VCJ1n3-3fUPG"
      },
      "execution_count": null,
      "outputs": []
    },
    {
      "cell_type": "code",
      "source": [
        "#3.Write a code to slice the first 3 characters from the string \"Python Programming\".\n",
        "\n",
        "string = \"Python Programming\"\n",
        "sliced_string = string[:3]\n",
        "print(sliced_string)\n"
      ],
      "metadata": {
        "id": "xlWLe9TnftfK"
      },
      "execution_count": null,
      "outputs": []
    },
    {
      "cell_type": "code",
      "source": [
        "#4.Write a code to convert the string \"hello\" to uppercase.\n",
        "\n",
        "string = \"hello\"\n",
        "uppercase_string = string.upper()\n",
        "print(uppercase_string)\n"
      ],
      "metadata": {
        "id": "4_YVhdz6gVKx"
      },
      "execution_count": null,
      "outputs": []
    },
    {
      "cell_type": "code",
      "source": [
        "#5.Write a code to replace the word \"apple\" with \"orange\" in the string \"I like apple\".\n",
        "\n",
        "string = \"I like apple\"\n",
        "replaced_string = string.replace(\"apple\", \"orange\")\n",
        "print(replaced_string)\n"
      ],
      "metadata": {
        "id": "IN9HQqJ2gkTS"
      },
      "execution_count": null,
      "outputs": []
    },
    {
      "cell_type": "code",
      "source": [
        "#6.Write a code to create a list with numbers 1 to 5 and print it.\n",
        "\n",
        "numbers = [1, 2, 3, 4, 5]\n",
        "print(numbers)\n"
      ],
      "metadata": {
        "id": "6Q-XppoOg779"
      },
      "execution_count": null,
      "outputs": []
    },
    {
      "cell_type": "code",
      "source": [
        "#7.Write a code to append the number 10 to the list [1, 2, 3, 4].\n",
        "\n",
        "numbers = [1, 2, 3, 4]\n",
        "numbers.append(10)\n",
        "print(numbers)\n"
      ],
      "metadata": {
        "id": "YCrIy5q5hLXe"
      },
      "execution_count": null,
      "outputs": []
    },
    {
      "cell_type": "code",
      "source": [
        "#8.Write a code to remove the number 3 from the list [1, 2, 3, 4, 5].\n",
        "\n",
        "numbers = [1, 2, 3, 4, 5]\n",
        "numbers.remove(3)\n",
        "print(numbers)"
      ],
      "metadata": {
        "id": "J0fKKKRchYER"
      },
      "execution_count": null,
      "outputs": []
    },
    {
      "cell_type": "code",
      "source": [
        "#9.Write a code to access the second element in the list ['a', 'b', 'c', 'd'].\n",
        "\n",
        "letters = ['a', 'b', 'c', 'd']\n",
        "second_element = letters[1]\n",
        "print(second_element)"
      ],
      "metadata": {
        "id": "Ty2BahgJhwE3"
      },
      "execution_count": null,
      "outputs": []
    },
    {
      "cell_type": "code",
      "source": [
        "#10.Write a code to reverse the list [10, 20, 30, 40, 50].\n",
        "numbers = [10, 20, 30, 40, 50]\n",
        "numbers.reverse()\n",
        "print(numbers)\n"
      ],
      "metadata": {
        "id": "O3amEZO1ifCn"
      },
      "execution_count": null,
      "outputs": []
    },
    {
      "cell_type": "code",
      "source": [
        "#11. Write a code to create a tuple with the elements 100, 200, 300 and print it.\n",
        "a = (100,200,300)\n",
        "print(a)"
      ],
      "metadata": {
        "id": "I-zK19nciuUG"
      },
      "execution_count": null,
      "outputs": []
    },
    {
      "cell_type": "code",
      "source": [
        "#12. Write a code to access the second-to-last element of the tuple ('red', 'green', 'blue', 'yellow').\n",
        "\n",
        "colors = ('red', 'green', 'blue', 'yellow')\n",
        "second_to_last = colors[-2]\n",
        "print(second_to_last)\n"
      ],
      "metadata": {
        "id": "3Dexk6M7jIoA"
      },
      "execution_count": null,
      "outputs": []
    },
    {
      "cell_type": "code",
      "source": [
        "#13.Write a code to find the minimum number in the tuple (10, 20, 5, 15).\n",
        "\n",
        "numbers = (10, 20, 5, 15)\n",
        "min_number = min(numbers)\n",
        "print(min_number)\n"
      ],
      "metadata": {
        "id": "jHMoACy1j36-"
      },
      "execution_count": null,
      "outputs": []
    },
    {
      "cell_type": "code",
      "source": [
        "#14.Write a code to find the index of the element \"cat\" in the tuple ('dog', 'cat', 'rabbit').\n",
        "\n",
        "animals = ('dog', 'cat', 'rabbit')\n",
        "index_of_cat = animals.index('cat')\n",
        "print(index_of_cat)\n"
      ],
      "metadata": {
        "id": "xIBdXFGXkHX1"
      },
      "execution_count": null,
      "outputs": []
    },
    {
      "cell_type": "code",
      "source": [
        "#15.Write a code to create a tuple containing three different fruits and check if \"kiwi\" is in it.\n",
        "\n",
        "fruits = ('apple', 'banana', 'cherry')\n",
        "is_kiwi_present = 'kiwi' in fruits\n",
        "print(is_kiwi_present)\n"
      ],
      "metadata": {
        "id": "q2joYwfPkS-x"
      },
      "execution_count": null,
      "outputs": []
    },
    {
      "cell_type": "code",
      "source": [
        "#16.Write a code to create a set with the elements 'a', 'b', 'c' and print it.\n",
        "\n",
        "letters = {'a', 'b', 'c'}\n",
        "print(letters)\n"
      ],
      "metadata": {
        "id": "8u2XJ9zmkfpM"
      },
      "execution_count": null,
      "outputs": []
    },
    {
      "cell_type": "code",
      "source": [
        "#17.Write a code to clear all elements from the set {1, 2, 3, 4, 5}.\n",
        "\n",
        "numbers_set = {1, 2, 3, 4, 5}\n",
        "numbers_set.clear()\n",
        "print(numbers_set)\n"
      ],
      "metadata": {
        "id": "Qg0yNHxkk2Tb"
      },
      "execution_count": null,
      "outputs": []
    },
    {
      "cell_type": "code",
      "source": [
        "#18.Write a code to remove the element 4 from the set {1, 2, 3, 4}.\n",
        "\n",
        "numbers_set = {1, 2, 3, 4}\n",
        "numbers_set.remove(4)\n",
        "print(numbers_set)\n"
      ],
      "metadata": {
        "id": "NPgjPwh-lE4e"
      },
      "execution_count": null,
      "outputs": []
    },
    {
      "cell_type": "code",
      "source": [
        "#19.Write a code to find the union of two sets {1, 2, 3} and {3, 4, 5}.\n",
        "\n",
        "set1 = {1, 2, 3}\n",
        "set2 = {3, 4, 5}\n",
        "union_set = set1.union(set2)\n",
        "print(union_set)\n"
      ],
      "metadata": {
        "id": "dRkYeHdglSFB"
      },
      "execution_count": null,
      "outputs": []
    },
    {
      "cell_type": "code",
      "source": [
        "#20.Write a code to find the intersection of two sets {1, 2, 3} and {2, 3, 4}.\n",
        "\n",
        "set1 = {1, 2, 3}\n",
        "set2 = {2, 3, 4}\n",
        "intersection_set = set1.intersection(set2)\n",
        "print(intersection_set)\n"
      ],
      "metadata": {
        "id": "iHOzSBy2liNj"
      },
      "execution_count": null,
      "outputs": []
    },
    {
      "cell_type": "code",
      "source": [
        "#21.Write a code to create a dictionary with the keys \"name\", \"age\", and \"city\", and print it.\n",
        "\n",
        "person = {\"name\": \"Alice\", \"age\": 30, \"city\": \"Paris\"}\n",
        "print(person)\n"
      ],
      "metadata": {
        "id": "8LKJOJOQmB2d"
      },
      "execution_count": null,
      "outputs": []
    },
    {
      "cell_type": "code",
      "source": [
        "#22.Write a code to add a new key-value pair \"country\": \"USA\" to the dictionary {'name': 'John', 'age': 25}.\n",
        "\n",
        "person = {'name': 'John', 'age': 25}\n",
        "person['country'] = 'USA'\n",
        "print(person)\n"
      ],
      "metadata": {
        "id": "__ZWmaF5mcmN"
      },
      "execution_count": null,
      "outputs": []
    },
    {
      "cell_type": "code",
      "source": [
        "#23.Write a code to access the value associated with the key \"name\" in the dictionary {'name': 'Alice', 'age': 30}.\n",
        "\n",
        "person = {'name': 'Alice', 'age': 30}\n",
        "name_value = person['name']\n",
        "print(name_value)\n"
      ],
      "metadata": {
        "id": "F_OrSopbmt3Y"
      },
      "execution_count": null,
      "outputs": []
    },
    {
      "cell_type": "code",
      "source": [
        "#24.Write a code to remove the key \"age\" from the dictionary {'name': 'Bob', 'age': 22, 'city': 'New York'}.\n",
        "\n",
        "person = {'name': 'Bob', 'age': 22, 'city': 'New York'}\n",
        "person.pop('age')\n",
        "print(person)\n"
      ],
      "metadata": {
        "id": "PLBttA17m46g"
      },
      "execution_count": null,
      "outputs": []
    },
    {
      "cell_type": "code",
      "source": [
        "#25.Write a code to check if the key \"city\" exists in the dictionary {'name': 'Alice', 'city': 'Paris'}.\n",
        "\n",
        "person = {'name': 'Alice', 'city': 'Paris'}\n",
        "is_city_key_present = 'city' in person\n",
        "print(is_city_key_present)\n"
      ],
      "metadata": {
        "id": "m2POAHq1nJWd"
      },
      "execution_count": null,
      "outputs": []
    },
    {
      "cell_type": "code",
      "source": [
        "#26. Write a code to create a list, a tuple, and a dictionary, and print them alL.\n",
        "\n",
        "my_list = [1, 2, 3, 4, 5]\n",
        "my_tuple = (1, 2, 3, 4, 5)\n",
        "my_dict = {'name': 'Alice', 'age': 30}\n",
        "\n",
        "print(my_list)\n",
        "print(my_tuple)\n",
        "print(my_dict)\n"
      ],
      "metadata": {
        "id": "RsM8Ym63nXFI"
      },
      "execution_count": null,
      "outputs": []
    },
    {
      "cell_type": "code",
      "source": [
        "#27.Write a code to create a list of 5 random numbers between 1 and 100, sort it in ascending order, and print theresult.(replaced)\n",
        "\n",
        "import random\n",
        "\n",
        "random_numbers = random.sample(range(1, 101), 5)\n",
        "random_numbers.sort()\n",
        "print(random_numbers)\n"
      ],
      "metadata": {
        "id": "Kk0PtoDMnq2t"
      },
      "execution_count": null,
      "outputs": []
    },
    {
      "cell_type": "code",
      "source": [
        "#28.Write a code to create a list with strings and print the element at the third index.\n",
        "\n",
        "strings_list = ['apple', 'banana', 'cherry', 'date']\n",
        "third_element = strings_list[2]\n",
        "print(third_element)\n"
      ],
      "metadata": {
        "id": "rvMiRdz_n8cS"
      },
      "execution_count": null,
      "outputs": []
    },
    {
      "cell_type": "code",
      "source": [
        "#29.Write a code to combine two dictionaries into one and print the result.\n",
        "\n",
        "dict1 = {'name': 'Alice', 'age': 30}\n",
        "dict2 = {'city': 'Paris', 'country': 'France'}\n",
        "combined_dict = {**dict1, **dict2}\n",
        "print(combined_dict)\n"
      ],
      "metadata": {
        "id": "loI0Jd9hoL5y"
      },
      "execution_count": null,
      "outputs": []
    },
    {
      "cell_type": "code",
      "source": [
        "#30.Write a code to convert a list of strings into a set.\n",
        "\n",
        "strings_list = ['apple', 'banana', 'cherry', 'apple']\n",
        "strings_set = set(strings_list)\n",
        "print(strings_set)\n"
      ],
      "metadata": {
        "id": "y-X05SJUocoF"
      },
      "execution_count": null,
      "outputs": []
    }
  ]
}