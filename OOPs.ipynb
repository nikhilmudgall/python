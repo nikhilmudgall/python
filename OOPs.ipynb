{
  "nbformat": 4,
  "nbformat_minor": 0,
  "metadata": {
    "colab": {
      "provenance": []
    },
    "kernelspec": {
      "name": "python3",
      "display_name": "Python 3"
    },
    "language_info": {
      "name": "python"
    }
  },
  "cells": [
    {
      "cell_type": "markdown",
      "source": [
        "#1.What is Object-Oriented Programming (OOP)?\n",
        "\n",
        ">Object-Oriented Programming is a programming paradigm based on the concept of \"objects\", which can encapsulate data (attributes) and behavior (methods). It promotes modular and reusable code by structuring programs into objects. The four key principles of OOP are:\n",
        "\n",
        ">Encapsulation: Bundling data and methods together.\n",
        "\n",
        ">Abstraction: Hiding implementation details and showing only the functionality.\n",
        "\n",
        ">Inheritance: Reusing existing code by inheriting from other classes.\n",
        "\n",
        ">Polymorphism: Objects taking many forms, allowing one interface to be used for different types."
      ],
      "metadata": {
        "id": "QcK3EOLsWA-g"
      }
    },
    {
      "cell_type": "markdown",
      "source": [
        "#2.What is a class in OOP?\n",
        "\n",
        ">A class is like a blueprint for creating objects. It defines the properties (attributes) and methods (functions) that the objects created from it will have"
      ],
      "metadata": {
        "id": "icwh78VgWiPM"
      }
    },
    {
      "cell_type": "markdown",
      "source": [
        "#3.What is an object in OOP?\n",
        "\n",
        ">An object is an instance of a class. It is created using the class blueprint and has actual values for the class’s attributes"
      ],
      "metadata": {
        "id": "oE7vyDSHW3u7"
      }
    },
    {
      "cell_type": "markdown",
      "source": [
        "#4.What is the difference between abstraction and encapsulation?\n",
        "\n",
        ">Abstraction:- Hides implementation details and shows only what is necessary.\n",
        "\n",
        ">Encapsulation:- Hides internal data to prevent unauthorized access."
      ],
      "metadata": {
        "id": "QHLAN9RiXfTM"
      }
    },
    {
      "cell_type": "markdown",
      "source": [
        "#5.What are dunder methods in Python?\n",
        "\n",
        ">Dunder methods (short for \"double underscore\") are special methods in Python, also known as magic methods. They start and end with double underscores (e.g., __init__, __str__). These methods let you define custom behavior for Python’s built-in operations. Examples:\n",
        "\n",
        "__ init __: Initializes objects (like a constructor).\n",
        "\n",
        "__ str __: Defines how an object is represented as a string.\n",
        "\n",
        "__ add __: Customizes the behavior of the + operator for objects"
      ],
      "metadata": {
        "id": "x-G_q2MjZ_MI"
      }
    },
    {
      "cell_type": "markdown",
      "source": [
        "#6.Explain the concept of inheritance in OOP.\n",
        "\n",
        ">Inheritance allows one class (called the child class or subclass) to inherit properties and behavior (attributes and methods) from another class (called the parent class or superclass). It promotes code reuse and establishes a hierarchical relationship between classes"
      ],
      "metadata": {
        "id": "OFAWT2Rwb81H"
      }
    },
    {
      "cell_type": "markdown",
      "source": [
        "#7.What is polymorphism in OOP?\n",
        "\n",
        ">Polymorphism allows objects of different classes to be treated as objects of a common superclass. This enables the same method name to perform different behaviors depending on the object"
      ],
      "metadata": {
        "id": "ZDZVRf9OcFQ-"
      }
    },
    {
      "cell_type": "markdown",
      "source": [
        "#8.How is encapsulation achieved in Python.\n",
        "\n",
        ">Encapsulation is achieved by restricting access to certain parts of an object and protecting the internal state. Python uses access modifiers:\n",
        "\n",
        ">Public: Accessible everywhere (e.g., self.name).\n",
        "\n",
        ">Protected: Accessible within the class and its subclasses (_prefix with a single underscore: _variable).\n",
        "\n",
        ">Private: Accessible only within the class (__prefix with double underscores: __variable)."
      ],
      "metadata": {
        "id": "nMlwNdfbcOIJ"
      }
    },
    {
      "cell_type": "markdown",
      "source": [
        "#9.What is a constructor in Python?\n",
        "\n",
        ">A constructor is a special method used to initialize objects. In Python, the __init__ method serves as the constructor. It is automatically called when an object is created."
      ],
      "metadata": {
        "id": "0t3_IkkFcfC8"
      }
    },
    {
      "cell_type": "markdown",
      "source": [
        "#10.What are class and static methods in Python?\n",
        "\n",
        "class method :- a method bound to class,not to instance.use to manipulate class-level data.\n",
        "\n",
        "static method :- a method doesnot depend on class or instance data.use for utility or helper functions."
      ],
      "metadata": {
        "id": "nR8yFbWDcrGj"
      }
    },
    {
      "cell_type": "markdown",
      "source": [
        "#11.What is method overloading in Python?\n",
        "\n",
        "> Method Overloading in Python Method overloading allows you to define multiple methods with the same name but different parameters in many programming languages. However, Python doesn't directly support method overloading. Instead, you can simulate it by using default parameter values or handling multiple argument types inside a single method. Essentially, Python's dynamic nature allows flexibility in handling such situations without strict overloading"
      ],
      "metadata": {
        "id": "ZG1NzN8V7yL7"
      }
    },
    {
      "cell_type": "markdown",
      "source": [
        "#12.What is method overriding in OOP?\n",
        "\n",
        ">Method Overriding in OOP Method overriding occurs when a subclass provides a specific implementation of a method that is already defined in its parent class. This allows the subclass to customize or completely replace the behavior of the parent class's method. Overriding is a key feature of polymorphism in object-oriented programming, promoting dynamic behavior at runtime"
      ],
      "metadata": {
        "id": "_gFZOE_p8NDl"
      }
    },
    {
      "cell_type": "markdown",
      "source": [
        "#13.What is a property decorator in Python?\n",
        "\n",
        ">The @property decorator in Python is a way to create getter methods for class attributes while treating them like standard attributes. It allows for controlled access to an attribute without exposing how the data is managed or stored. You can also define setter and deleter methods using @attribute_name.setter and @attribute_name.deleter\n"
      ],
      "metadata": {
        "id": "bgCDuRwO8ftV"
      }
    },
    {
      "cell_type": "markdown",
      "source": [
        "#14.Why is polymorphism important in OOP?\n",
        "\n",
        ">Polymorphism allows objects of different classes to be treated as objects of a common superclass. It promotes code reusability and flexibility by enabling methods in different classes to be called through a single interface. In Python, this is typically achieved through method overriding"
      ],
      "metadata": {
        "id": "jW0yA7r7D9ZA"
      }
    },
    {
      "cell_type": "markdown",
      "source": [
        "#15.What is an abstract class in Python?\n",
        "\n",
        ">An abstract class is a blueprint for other classes. It is defined using the abc module and cannot be instantiated directly. It often contains abstract methods, which are methods declared but not implemented, enforcing derived classes to provide implementations"
      ],
      "metadata": {
        "id": "LHhYAF8NEqlH"
      }
    },
    {
      "cell_type": "markdown",
      "source": [
        "#16.What are the advantages of OOP?\n",
        "\n",
        ">OOP offers several advantages:\n",
        "\n",
        ">Code reusability: Achieved through inheritance.\n",
        "\n",
        ">Modularity: Classes encapsulate data and functionality.\n",
        "\n",
        ">Maintainability: Code changes are easier with clear structures.\n",
        "\n",
        ">Scalability: Adding new features is seamless.\n",
        "\n",
        ">Real-world modeling: Maps code structures to real-world concepts"
      ],
      "metadata": {
        "id": "i7TynOLRE4Xq"
      }
    },
    {
      "cell_type": "markdown",
      "source": [
        "#17.What is the difference between a class variable and an instance variable?\n",
        "\n",
        ">Class Variable: Shared across all instances of a class; defined directly inside the class.\n",
        "\n",
        ">Instance Variable: Unique to each object; defined inside methods like __init__"
      ],
      "metadata": {
        "id": "CSnNda6nH1Ou"
      }
    },
    {
      "cell_type": "markdown",
      "source": [
        "#18.What is multiple inheritance in Python?\n",
        "\n",
        ">In Python, multiple inheritance is a feature that allows a class to inherit attributes and methods from more than one parent class. This means that a single child class can derive functionality from multiple base classes, offering a way to reuse code efficiently and combine behaviors\n"
      ],
      "metadata": {
        "id": "sAGDwU9KITz9"
      }
    },
    {
      "cell_type": "markdown",
      "source": [
        "#19.Explain the purpose of ‘’__ str __’ and ‘__ repr__ ’ ‘ methods in Python.\n",
        "\n",
        ">The __ str __ method is meant to provide a \"user-friendly\" string representation of an object. It is typically used when the object is printed (e.g., using the print() function) or converted to a string with str(). This method should return a readable and informal description of the object.\n",
        "\n",
        ">The __repr__ method is intended to provide a more \"developer-focused\" or unambiguous string representation of the object. It is useful for debugging, as it often aims to include information that helps uniquely identify the object. When repr() is called on an object (or when used in a REPL session), Python looks for the __repr__ implementation"
      ],
      "metadata": {
        "id": "ndcghVaPKMg2"
      }
    },
    {
      "cell_type": "markdown",
      "source": [
        "#20.What is the significance of the ‘super()’ function in Python?\n",
        "\n",
        ">The super() function is used to access methods and attributes of a parent class from a child class. It’s particularly helpful in the context of inheritance, especially in multiple inheritance, where it resolves the method resolution order (MRO) and ensures proper initialization. It is often used to invoke the __ init__ ()"
      ],
      "metadata": {
        "id": "uctr9w4tK-_y"
      }
    },
    {
      "cell_type": "markdown",
      "source": [
        "#21.What is the significance of the __ del __ method in Python?\n",
        "\n",
        "The __ del __ method is a destructor. It’s called when an object is deleted or goes out of scope to clean up resources, like closing files or releasing network connections. It is rarely needed, as Python’s garbage collector handles most cleanup tasks"
      ],
      "metadata": {
        "id": "DDvwgXkULf8G"
      }
    },
    {
      "cell_type": "markdown",
      "source": [
        "#22.What is the difference between @staticmethod and @classmethod in Python?\n",
        "\n",
        ">@staticmethod defines a method that doesn’t require access to the class (cls) or instance (self). It’s like a regular function inside a class.\n",
        "\n",
        ">@classmethod defines a method that works on the class level. It takes cls as the first argument, referring to the class itself"
      ],
      "metadata": {
        "id": "H3diUzdILx3I"
      }
    },
    {
      "cell_type": "markdown",
      "source": [
        "#23.How does polymorphism work in Python with inheritance?\n",
        "\n",
        ">Polymorphism allows methods in different classes to have the same name but exhibit different behaviors. This is key to writing flexible and reusable code"
      ],
      "metadata": {
        "id": "G0CgxxFUMEF1"
      }
    },
    {
      "cell_type": "markdown",
      "source": [
        "#24.What is method chaining in Python OOP?\n",
        "\n",
        ">Method chaining refers to calling multiple methods on an object in a single line by returning self from each method. This is a common pattern for improving code readability"
      ],
      "metadata": {
        "id": "fZCcyBu7Mbwp"
      }
    },
    {
      "cell_type": "markdown",
      "source": [
        "#25.What is the purpose of the __ call __ method in Python?\n",
        "\n",
        ">The __call__ method makes an instance of a class behave like a function. You can define this special method to execute specific functionality when an object is \"called.\""
      ],
      "metadata": {
        "id": "8ifnrGD6OTXM"
      }
    },
    {
      "cell_type": "markdown",
      "source": [
        "#Practical"
      ],
      "metadata": {
        "id": "vQJSqGbTOf8p"
      }
    },
    {
      "cell_type": "code",
      "source": [
        "#1. Create a parent class Animal with a method speak() that prints a generic message. Create a child class Dog that overrides the speak() method to print \"Bark!\".\n",
        "\n",
        "class Animal:\n",
        "    def speak(self):\n",
        "        print(\"Generic animal sound\")\n",
        "\n",
        "class Dog(Animal):\n",
        "    def speak(self):\n",
        "        print(\"Bark!\")\n",
        "\n",
        "# Example usage\n",
        "animal = Animal()\n",
        "animal.speak()  # Output: Generic animal sound\n",
        "\n",
        "dog = Dog()\n",
        "dog.speak()  # Output: Bark!\n"
      ],
      "metadata": {
        "colab": {
          "base_uri": "https://localhost:8080/"
        },
        "id": "4RrATdE6OqkU",
        "outputId": "7f2016fe-f3d5-4437-c77e-b8cce7bb073f"
      },
      "execution_count": 1,
      "outputs": [
        {
          "output_type": "stream",
          "name": "stdout",
          "text": [
            "Generic animal sound\n",
            "Bark!\n"
          ]
        }
      ]
    },
    {
      "cell_type": "code",
      "source": [
        "#2.Write a program to create an abstract class Shape with a method area(). Derive classes Circle and Rectangle from it and implement the area() method in both.\n",
        "\n",
        "from abc import ABC, abstractmethod\n",
        "\n",
        "class Shape(ABC):\n",
        "    @abstractmethod\n",
        "    def area(self):\n",
        "        pass\n",
        "\n",
        "class Circle(Shape):\n",
        "    def __init__(self, radius):\n",
        "        self.radius = radius\n",
        "\n",
        "    def area(self):\n",
        "        return 3.14 * self.radius ** 2\n",
        "\n",
        "class Rectangle(Shape):\n",
        "    def __init__(self, length, width):\n",
        "        self.length = length\n",
        "        self.width = width\n",
        "\n",
        "    def area(self):\n",
        "        return self.length * self.width\n",
        "\n",
        "# Example usage\n",
        "circle = Circle(5)\n",
        "print(f\"Circle area: {circle.area()}\")  # Output: Circle area: 78.5\n",
        "\n",
        "rectangle = Rectangle(4, 6)\n",
        "print(f\"Rectangle area: {rectangle.area()}\")  # Output: Rectangle area: 24\n"
      ],
      "metadata": {
        "colab": {
          "base_uri": "https://localhost:8080/"
        },
        "id": "q4V5PXuNPOeu",
        "outputId": "db3e6fae-e701-41a0-e8c7-125a9cfcfae1"
      },
      "execution_count": 3,
      "outputs": [
        {
          "output_type": "stream",
          "name": "stdout",
          "text": [
            "Circle area: 78.5\n",
            "Rectangle area: 24\n"
          ]
        }
      ]
    },
    {
      "cell_type": "code",
      "source": [
        "#3.Implement a multi-level inheritance scenario where a class Vehicle has an attribute type. Derive a class Car and further derive a class ElectricCar that adds a battery attribute\n",
        "\n",
        "class Vehicle:\n",
        "    def __init__(self, vehicle_type):\n",
        "        self.vehicle_type = vehicle_type\n",
        "\n",
        "class Car(Vehicle):\n",
        "    def __init__(self, vehicle_type, brand):\n",
        "        super().__init__(vehicle_type)\n",
        "        self.brand = brand\n",
        "\n",
        "class ElectricCar(Car):\n",
        "    def __init__(self, vehicle_type, brand, battery_capacity):\n",
        "        super().__init__(vehicle_type, brand)\n",
        "        self.battery_capacity = battery_capacity\n",
        "\n",
        "# Example usage\n",
        "electric_car = ElectricCar(\"Electric\", \"Tesla\", \"100 kWh\")\n",
        "print(f\"Type: {electric_car.vehicle_type}, Brand: {electric_car.brand}, Battery: {electric_car.battery_capacity}\")\n",
        "# Output: Type: Electric, Brand: Tesla, Battery: 100 kWh\n",
        "\n"
      ],
      "metadata": {
        "colab": {
          "base_uri": "https://localhost:8080/"
        },
        "id": "Km__jxX8Pfk-",
        "outputId": "0e90f621-f20b-4633-e1af-08ebddb67169"
      },
      "execution_count": 4,
      "outputs": [
        {
          "output_type": "stream",
          "name": "stdout",
          "text": [
            "Type: Electric, Brand: Tesla, Battery: 100 kWh\n"
          ]
        }
      ]
    },
    {
      "cell_type": "code",
      "source": [
        "#4.Demonstrate polymorphism by creating a base class Bird with a method fly(). Create two derived classes Sparrow and Penguin that override the fly() method\n",
        "\n",
        "class Bird:\n",
        "    def fly(self):\n",
        "        print(\"Birds can fly\")\n",
        "\n",
        "class Sparrow(Bird):\n",
        "    def fly(self):\n",
        "        print(\"Sparrow flies high\")\n",
        "\n",
        "class Penguin(Bird):\n",
        "    def fly(self):\n",
        "        print(\"Penguins can't fly\")\n",
        "\n",
        "# Example usage\n",
        "birds = [Sparrow(), Penguin()]\n",
        "for bird in birds:\n",
        "    bird.fly()\n",
        "# Output:\n",
        "# Sparrow flies high\n",
        "# Penguins can't fly\n"
      ],
      "metadata": {
        "colab": {
          "base_uri": "https://localhost:8080/"
        },
        "id": "e6QixQPoP8dH",
        "outputId": "c605e973-a000-4b66-98b4-d31e68e31f00"
      },
      "execution_count": 5,
      "outputs": [
        {
          "output_type": "stream",
          "name": "stdout",
          "text": [
            "Sparrow flies high\n",
            "Penguins can't fly\n"
          ]
        }
      ]
    },
    {
      "cell_type": "code",
      "source": [
        "#5.Write a program to demonstrate encapsulation by creating a class BankAccount with private attributes balance and methods to deposit, withdraw, and check balance\n",
        "\n",
        "class BankAccount:\n",
        "    def __init__(self):\n",
        "        self.__balance = 0\n",
        "\n",
        "    def deposit(self, amount):\n",
        "        if amount > 0:\n",
        "            self.__balance += amount\n",
        "            print(f\"Deposited: {amount}\")\n",
        "        else:\n",
        "            print(\"Invalid deposit amount\")\n",
        "\n",
        "    def withdraw(self, amount):\n",
        "        if 0 < amount <= self.__balance:\n",
        "            self.__balance -= amount\n",
        "            print(f\"Withdrawn: {amount}\")\n",
        "        else:\n",
        "            print(\"Insufficient balance or invalid amount\")\n",
        "\n",
        "    def get_balance(self):\n",
        "        return self.__balance\n",
        "\n",
        "# Example usage\n",
        "account = BankAccount()\n",
        "account.deposit(1000)  # Output: Deposited: 1000\n",
        "account.withdraw(500)  # Output: Withdrawn: 500\n",
        "print(f\"Balance: {account.get_balance()}\")  # Output: Balance: 500\n"
      ],
      "metadata": {
        "colab": {
          "base_uri": "https://localhost:8080/"
        },
        "id": "Lu2cN8CDQJ0E",
        "outputId": "4ce8e15b-d986-47dc-ef38-5b0b0200a8ba"
      },
      "execution_count": 6,
      "outputs": [
        {
          "output_type": "stream",
          "name": "stdout",
          "text": [
            "Deposited: 1000\n",
            "Withdrawn: 500\n",
            "Balance: 500\n"
          ]
        }
      ]
    },
    {
      "cell_type": "code",
      "source": [
        "#6.Demonstrate runtime polymorphism using a method play() in a base class Instrument. Derive classes Guitar and Piano that implement their own version of play()\n",
        "\n",
        "class Instrument:\n",
        "    def play(self):\n",
        "        print(\"Playing an instrument\")\n",
        "\n",
        "class Guitar(Instrument):\n",
        "    def play(self):\n",
        "        print(\"Strumming the guitar\")\n",
        "\n",
        "class Piano(Instrument):\n",
        "    def play(self):\n",
        "        print(\"Playing the piano\")\n",
        "\n",
        "# Example usage\n",
        "instruments = [Guitar(), Piano()]\n",
        "for instrument in instruments:\n",
        "    instrument.play()\n",
        "# Output:\n",
        "# Strumming the guitar\n",
        "# Playing the piano\n"
      ],
      "metadata": {
        "colab": {
          "base_uri": "https://localhost:8080/"
        },
        "id": "kxC6x0HHQXxQ",
        "outputId": "884b7304-1116-46eb-e63a-01ffaad4772d"
      },
      "execution_count": 7,
      "outputs": [
        {
          "output_type": "stream",
          "name": "stdout",
          "text": [
            "Strumming the guitar\n",
            "Playing the piano\n"
          ]
        }
      ]
    },
    {
      "cell_type": "code",
      "source": [
        "#7.Create a class MathOperations with a class method add_numbers() to add two numbers and a static method subtract_numbers() to subtract two numbers\n",
        "\n",
        "class MathOperations:\n",
        "    @classmethod\n",
        "    def add_numbers(cls, a, b):\n",
        "        return a + b\n",
        "\n",
        "    @staticmethod\n",
        "    def subtract_numbers(a, b):\n",
        "        return a - b\n",
        "\n",
        "# Example usage\n",
        "print(MathOperations.add_numbers(5, 3))  # Output: 8\n",
        "print(MathOperations.subtract_numbers(10, 7))  # Output: 3\n"
      ],
      "metadata": {
        "colab": {
          "base_uri": "https://localhost:8080/"
        },
        "id": "0cspWxLKQuPB",
        "outputId": "22eef3de-741c-4de7-f031-8e7318ed05ef"
      },
      "execution_count": 8,
      "outputs": [
        {
          "output_type": "stream",
          "name": "stdout",
          "text": [
            "8\n",
            "3\n"
          ]
        }
      ]
    },
    {
      "cell_type": "code",
      "source": [
        "#8.Implement a class Person with a class method to count the total number of persons created.\n",
        "\n",
        "class Person:\n",
        "    count = 0\n",
        "\n",
        "    def __init__(self):\n",
        "        Person.count += 1\n",
        "\n",
        "    @classmethod\n",
        "    def total_persons(cls):\n",
        "        return f\"Total persons created: {cls.count}\"\n",
        "\n",
        "# Example usage\n",
        "p1 = Person()\n",
        "p2 = Person()\n",
        "print(Person.total_persons())  # Output: Total persons created: 2\n"
      ],
      "metadata": {
        "colab": {
          "base_uri": "https://localhost:8080/"
        },
        "id": "cGJpVlgnQ_BN",
        "outputId": "b2f412f1-27fe-4586-ac6f-3ed2487e4d45"
      },
      "execution_count": 9,
      "outputs": [
        {
          "output_type": "stream",
          "name": "stdout",
          "text": [
            "Total persons created: 2\n"
          ]
        }
      ]
    },
    {
      "cell_type": "code",
      "source": [
        "#9.Write a class Fraction with attributes numerator and denominator. Override the str method to display the fraction as \"numerator/denominator\".\n",
        "\n",
        "class Fraction:\n",
        "    def __init__(self, numerator, denominator):\n",
        "        self.numerator = numerator\n",
        "        self.denominator = denominator\n",
        "\n",
        "    def __str__(self):\n",
        "        return f\"{self.numerator}/{self.denominator}\"\n",
        "\n",
        "# Example usage\n",
        "fraction = Fraction(3, 4)\n",
        "print(fraction)  # Output: 3/4\n"
      ],
      "metadata": {
        "colab": {
          "base_uri": "https://localhost:8080/"
        },
        "id": "I8f9ZsDcRTLu",
        "outputId": "b2d1c6ac-060b-4316-809d-135a93f95c98"
      },
      "execution_count": 10,
      "outputs": [
        {
          "output_type": "stream",
          "name": "stdout",
          "text": [
            "3/4\n"
          ]
        }
      ]
    },
    {
      "cell_type": "code",
      "source": [
        "#10. Demonstrate operator overloading by creating a class Vector and overriding the add method to add two vectors\n",
        "\n",
        "class Vector:\n",
        "    def __init__(self, x, y):\n",
        "        self.x = x\n",
        "        self.y = y\n",
        "\n",
        "    def __add__(self, other):\n",
        "        return Vector(self.x + other.x, self.y + other.y)\n",
        "\n",
        "    def __str__(self):\n",
        "        return f\"({self.x}, {self.y})\"\n",
        "\n",
        "# Example usage\n",
        "v1 = Vector(2, 3)\n",
        "v2 = Vector(4, 5)\n",
        "v3 = v1 + v2  # Adds the vectors using overloaded `+`\n",
        "print(v3)  # Output: (6, 8)\n"
      ],
      "metadata": {
        "colab": {
          "base_uri": "https://localhost:8080/"
        },
        "id": "PQ_dFKQgRqlc",
        "outputId": "db7db9d6-dd51-4c26-ea32-43cdbd061b4c"
      },
      "execution_count": 11,
      "outputs": [
        {
          "output_type": "stream",
          "name": "stdout",
          "text": [
            "(6, 8)\n"
          ]
        }
      ]
    },
    {
      "cell_type": "code",
      "source": [
        "#11. Create a class Person with attributes name and age. Add a method greet() that prints \"Hello, my name is {name} and I am {age} years old.\"\n",
        "\n",
        "class Person:\n",
        "    def __init__(self, name, age):\n",
        "        self.name = name\n",
        "        self.age = age\n",
        "\n",
        "    def greet(self):\n",
        "        print(f\"Hello, my name is {self.name} and I am {self.age} years old.\")\n",
        "\n",
        "# Example usage\n",
        "person = Person(\"Alice\", 30)\n",
        "person.greet()  # Output: Hello, my name is Alice and I am 30 years old.\n"
      ],
      "metadata": {
        "colab": {
          "base_uri": "https://localhost:8080/"
        },
        "id": "EQSDk3F2R_mv",
        "outputId": "e8050b19-9249-4671-f2a0-5f6567928784"
      },
      "execution_count": 12,
      "outputs": [
        {
          "output_type": "stream",
          "name": "stdout",
          "text": [
            "Hello, my name is Alice and I am 30 years old.\n"
          ]
        }
      ]
    },
    {
      "cell_type": "code",
      "source": [
        "#12.Implement a class Student with attributes name and grades. Create a method average_grade() to compute the average of the grades.\n",
        "\n",
        "class Student:\n",
        "    def __init__(self, name, grades):\n",
        "        self.name = name\n",
        "        self.grades = grades\n",
        "\n",
        "    def average_grade(self):\n",
        "        return sum(self.grades) / len(self.grades)\n",
        "\n",
        "# Example usage\n",
        "student = Student(\"Bob\", [85, 90, 78])\n",
        "print(f\"Average Grade: {student.average_grade()}\")  # Output: Average Grade: 84.33333333333333\n"
      ],
      "metadata": {
        "colab": {
          "base_uri": "https://localhost:8080/"
        },
        "id": "gR50H0m1SYTb",
        "outputId": "f28313b6-d937-48d6-f84b-9e2ddb61faaa"
      },
      "execution_count": 13,
      "outputs": [
        {
          "output_type": "stream",
          "name": "stdout",
          "text": [
            "Average Grade: 84.33333333333333\n"
          ]
        }
      ]
    },
    {
      "cell_type": "code",
      "source": [
        "#13.Create a class Rectangle with methods set_dimensions() to set the dimensions and area() to calculate the area.\n",
        "\n",
        "class Rectangle:\n",
        "    def __init__(self):\n",
        "        self.length = 0\n",
        "        self.width = 0\n",
        "\n",
        "    def set_dimensions(self, length, width):\n",
        "        self.length = length\n",
        "        self.width = width\n",
        "\n",
        "    def area(self):\n",
        "        return self.length * self.width\n",
        "\n",
        "# Example usage\n",
        "rect = Rectangle()\n",
        "rect.set_dimensions(4, 5)\n",
        "print(f\"Area of Rectangle: {rect.area()}\")  # Output: Area of Rectangle: 20\n"
      ],
      "metadata": {
        "colab": {
          "base_uri": "https://localhost:8080/"
        },
        "id": "b9dyalySSr8u",
        "outputId": "be244652-d735-4ed3-9a14-227116e312d7"
      },
      "execution_count": 14,
      "outputs": [
        {
          "output_type": "stream",
          "name": "stdout",
          "text": [
            "Area of Rectangle: 20\n"
          ]
        }
      ]
    },
    {
      "cell_type": "code",
      "source": [
        "#14.Create a class Employee with a method calculate_salary() that computes the salary based on hours worked and hourly rate. Create a derived class Manager that adds a bonus to the salary.\n",
        "\n",
        "class Employee:\n",
        "    def __init__(self, hourly_rate):\n",
        "        self.hourly_rate = hourly_rate\n",
        "\n",
        "    def calculate_salary(self, hours_worked):\n",
        "        return self.hourly_rate * hours_worked\n",
        "\n",
        "class Manager(Employee):\n",
        "    def __init__(self, hourly_rate, bonus):\n",
        "        super().__init__(hourly_rate)\n",
        "        self.bonus = bonus\n",
        "\n",
        "    def calculate_salary(self, hours_worked):\n",
        "        base_salary = super().calculate_salary(hours_worked)\n",
        "        return base_salary + self.bonus\n",
        "\n",
        "# Example usage\n",
        "employee = Employee(20)\n",
        "print(f\"Employee Salary: {employee.calculate_salary(40)}\")  # Output: Employee Salary: 800\n",
        "\n",
        "manager = Manager(30, 500)\n",
        "print(f\"Manager Salary: {manager.calculate_salary(40)}\")  # Output: Manager Salary: 1700\n"
      ],
      "metadata": {
        "colab": {
          "base_uri": "https://localhost:8080/"
        },
        "id": "jwe4joW_S5RC",
        "outputId": "9f26b41e-0ede-4cad-be3d-7eeb6ead30aa"
      },
      "execution_count": 15,
      "outputs": [
        {
          "output_type": "stream",
          "name": "stdout",
          "text": [
            "Employee Salary: 800\n",
            "Manager Salary: 1700\n"
          ]
        }
      ]
    },
    {
      "cell_type": "code",
      "source": [
        "#15. Create a class Product with attributes name, price, and quantity. Implement a method total_price() that calculates the total price of the product.\n",
        "\n",
        "class Product:\n",
        "    def __init__(self, name, price, quantity):\n",
        "        self.name = name\n",
        "        self.price = price\n",
        "        self.quantity = quantity\n",
        "\n",
        "    def total_price(self):\n",
        "        return self.price * self.quantity\n",
        "\n",
        "# Example usage\n",
        "product = Product(\"Laptop\", 75000, 2)\n",
        "print(f\"Total Price: {product.total_price()}\")  # Output: Total Price: 150000\n"
      ],
      "metadata": {
        "colab": {
          "base_uri": "https://localhost:8080/"
        },
        "id": "Alu8uHmNToJS",
        "outputId": "5329e9e8-d642-439e-9a9e-80dfcf26dd0c"
      },
      "execution_count": 16,
      "outputs": [
        {
          "output_type": "stream",
          "name": "stdout",
          "text": [
            "Total Price: 150000\n"
          ]
        }
      ]
    },
    {
      "cell_type": "code",
      "source": [
        "#16.Create a class Animal with an abstract method sound(). Create two derived classes Cow and Sheep that implement the sound() method\n",
        "\n",
        "from abc import ABC, abstractmethod\n",
        "\n",
        "class Animal(ABC):\n",
        "    @abstractmethod\n",
        "    def sound(self):\n",
        "        pass\n",
        "\n",
        "class Cow(Animal):\n",
        "    def sound(self):\n",
        "        return \"Moo\"\n",
        "\n",
        "class Sheep(Animal):\n",
        "    def sound(self):\n",
        "        return \"Baa\"\n",
        "\n",
        "# Example usage\n",
        "cow = Cow()\n",
        "sheep = Sheep()\n",
        "print(cow.sound())  # Output: Moo\n",
        "print(sheep.sound())  # Output: Baa\n"
      ],
      "metadata": {
        "colab": {
          "base_uri": "https://localhost:8080/"
        },
        "id": "7Q5nhUQyT3Ti",
        "outputId": "be3494eb-dce9-4150-da88-349ec11fe38a"
      },
      "execution_count": 17,
      "outputs": [
        {
          "output_type": "stream",
          "name": "stdout",
          "text": [
            "Moo\n",
            "Baa\n"
          ]
        }
      ]
    },
    {
      "cell_type": "code",
      "source": [
        "#17.Create a class Book with attributes title, author, and year_published. Add a method get_book_info() that returns a formatted string with the book's details.\n",
        "\n",
        "class Book:\n",
        "    def __init__(self, title, author, year_published):\n",
        "        self.title = title\n",
        "        self.author = author\n",
        "        self.year_published = year_published\n",
        "\n",
        "    def get_book_info(self):\n",
        "        return f\"'{self.title}' by {self.author}, published in {self.year_published}\"\n",
        "\n",
        "# Example usage\n",
        "book = Book(\"1984\", \"George Orwell\", 1949)\n",
        "print(book.get_book_info())\n",
        "# Output: '1984' by George Orwell, published in 1949\n"
      ],
      "metadata": {
        "colab": {
          "base_uri": "https://localhost:8080/"
        },
        "id": "YiKEzt1hULc2",
        "outputId": "1aa02ddd-05e9-4277-b2d5-41690ba75411"
      },
      "execution_count": 18,
      "outputs": [
        {
          "output_type": "stream",
          "name": "stdout",
          "text": [
            "'1984' by George Orwell, published in 1949\n"
          ]
        }
      ]
    },
    {
      "cell_type": "code",
      "source": [
        "#18.Create a class House with attributes address and price. Create a derived class Mansion that adds a attribute number_of_rooms.\n",
        "\n",
        "class House:\n",
        "    def __init__(self, address, price):\n",
        "        self.address = address\n",
        "        self.price = price\n",
        "\n",
        "class Mansion(House):\n",
        "    def __init__(self, address, price, number_of_rooms):\n",
        "        super().__init__(address, price)\n",
        "        self.number_of_rooms = number_of_rooms\n",
        "\n",
        "# Example usage\n",
        "mansion = Mansion(\"123 Luxury Lane\", 50000000, 10)\n",
        "print(f\"Address: {mansion.address}, Price: {mansion.price}, Rooms: {mansion.number_of_rooms}\")\n",
        "# Output: Address: 123 Luxury Lane, Price: 50000000, Rooms: 10\n"
      ],
      "metadata": {
        "colab": {
          "base_uri": "https://localhost:8080/"
        },
        "id": "RXvlFeopUpE7",
        "outputId": "ef1ec4d8-3347-4321-8c2b-f879f775df73"
      },
      "execution_count": 19,
      "outputs": [
        {
          "output_type": "stream",
          "name": "stdout",
          "text": [
            "Address: 123 Luxury Lane, Price: 50000000, Rooms: 10\n"
          ]
        }
      ]
    }
  ]
}